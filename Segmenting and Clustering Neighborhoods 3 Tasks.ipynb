{
 "cells": [
  {
   "cell_type": "markdown",
   "metadata": {},
   "source": [
    "## Peer-graded Assignment: \n",
    "\n",
    "### Task 1\n",
    "#### Segmenting and Clustering Neighborhoods in Toronto : use the beautifulsoup for scraping data from website: https://en.wikipedia.org/wiki/List_of_postal_codes_of_Canada:_M\n",
    "\n"
   ]
  },
  {
   "cell_type": "markdown",
   "metadata": {},
   "source": [
    "### Import Libraries"
   ]
  },
  {
   "cell_type": "code",
   "execution_count": 1,
   "metadata": {},
   "outputs": [
    {
     "name": "stdout",
     "output_type": "stream",
     "text": [
      "Collecting bs4\n",
      "  Downloading https://files.pythonhosted.org/packages/10/ed/7e8b97591f6f456174139ec089c769f89a94a1a4025fe967691de971f314/bs4-0.0.1.tar.gz\n",
      "Collecting beautifulsoup4 (from bs4)\n",
      "\u001b[?25l  Downloading https://files.pythonhosted.org/packages/1a/b7/34eec2fe5a49718944e215fde81288eec1fa04638aa3fb57c1c6cd0f98c3/beautifulsoup4-4.8.0-py3-none-any.whl (97kB)\n",
      "\u001b[K     |████████████████████████████████| 102kB 992kB/s ta 0:00:01\n",
      "\u001b[?25hCollecting soupsieve>=1.2 (from beautifulsoup4->bs4)\n",
      "  Downloading https://files.pythonhosted.org/packages/0b/44/0474f2207fdd601bb25787671c81076333d2c80e6f97e92790f8887cf682/soupsieve-1.9.3-py2.py3-none-any.whl\n",
      "Building wheels for collected packages: bs4\n",
      "  Building wheel for bs4 (setup.py) ... \u001b[?25ldone\n",
      "\u001b[?25h  Stored in directory: /home/jupyterlab/.cache/pip/wheels/a0/b0/b2/4f80b9456b87abedbc0bf2d52235414c3467d8889be38dd472\n",
      "Successfully built bs4\n",
      "Installing collected packages: soupsieve, beautifulsoup4, bs4\n",
      "Successfully installed beautifulsoup4-4.8.0 bs4-0.0.1 soupsieve-1.9.3\n",
      "Note: you may need to restart the kernel to use updated packages.\n"
     ]
    }
   ],
   "source": [
    "pip install bs4"
   ]
  },
  {
   "cell_type": "code",
   "execution_count": 2,
   "metadata": {},
   "outputs": [
    {
     "name": "stdout",
     "output_type": "stream",
     "text": [
      "Collecting lxml\n",
      "\u001b[?25l  Downloading https://files.pythonhosted.org/packages/ec/be/5ab8abdd8663c0386ec2dd595a5bc0e23330a0549b8a91e32f38c20845b6/lxml-4.4.1-cp36-cp36m-manylinux1_x86_64.whl (5.8MB)\n",
      "\u001b[K     |████████████████████████████████| 5.8MB 2.9MB/s eta 0:00:01\n",
      "\u001b[?25hInstalling collected packages: lxml\n",
      "Successfully installed lxml-4.4.1\n",
      "Note: you may need to restart the kernel to use updated packages.\n"
     ]
    }
   ],
   "source": [
    "pip install lxml"
   ]
  },
  {
   "cell_type": "code",
   "execution_count": 3,
   "metadata": {},
   "outputs": [],
   "source": [
    "from bs4 import BeautifulSoup\n",
    "import requests\n",
    "import pandas as pd\n",
    "from lxml import html"
   ]
  },
  {
   "cell_type": "markdown",
   "metadata": {},
   "source": [
    "### Scrap List of postal codes of Canada wiki page content by using requests library and parese with BeautifulSoup"
   ]
  },
  {
   "cell_type": "code",
   "execution_count": 77,
   "metadata": {},
   "outputs": [],
   "source": [
    "# download data from website and create instance of BeautifulSoup class for parsing the data. \n",
    "URL = \"https://en.wikipedia.org/wiki/List_of_postal_codes_of_Canada:_M\"\n",
    "webcontent = requests.get(URL).text\n",
    "Canada_data = BeautifulSoup(webcontent, 'lxml')"
   ]
  },
  {
   "cell_type": "markdown",
   "metadata": {},
   "source": [
    "### Create dataframe from the postal code data from the HTML table on the site"
   ]
  },
  {
   "cell_type": "code",
   "execution_count": 78,
   "metadata": {},
   "outputs": [
    {
     "name": "stdout",
     "output_type": "stream",
     "text": [
      "(103, 3)\n"
     ]
    },
    {
     "data": {
      "text/html": [
       "<div>\n",
       "<style scoped>\n",
       "    .dataframe tbody tr th:only-of-type {\n",
       "        vertical-align: middle;\n",
       "    }\n",
       "\n",
       "    .dataframe tbody tr th {\n",
       "        vertical-align: top;\n",
       "    }\n",
       "\n",
       "    .dataframe thead th {\n",
       "        text-align: right;\n",
       "    }\n",
       "</style>\n",
       "<table border=\"1\" class=\"dataframe\">\n",
       "  <thead>\n",
       "    <tr style=\"text-align: right;\">\n",
       "      <th></th>\n",
       "      <th>Postalcode</th>\n",
       "      <th>Borough</th>\n",
       "      <th>Neighborhood</th>\n",
       "    </tr>\n",
       "  </thead>\n",
       "  <tbody>\n",
       "    <tr>\n",
       "      <td>0</td>\n",
       "      <td>M1B</td>\n",
       "      <td>Scarborough</td>\n",
       "      <td>Rouge, Malvern</td>\n",
       "    </tr>\n",
       "    <tr>\n",
       "      <td>1</td>\n",
       "      <td>M1C</td>\n",
       "      <td>Scarborough</td>\n",
       "      <td>Highland Creek, Rouge Hill, Port Union</td>\n",
       "    </tr>\n",
       "    <tr>\n",
       "      <td>2</td>\n",
       "      <td>M1E</td>\n",
       "      <td>Scarborough</td>\n",
       "      <td>Guildwood, Morningside, West Hill</td>\n",
       "    </tr>\n",
       "    <tr>\n",
       "      <td>3</td>\n",
       "      <td>M1G</td>\n",
       "      <td>Scarborough</td>\n",
       "      <td>Woburn</td>\n",
       "    </tr>\n",
       "    <tr>\n",
       "      <td>4</td>\n",
       "      <td>M1H</td>\n",
       "      <td>Scarborough</td>\n",
       "      <td>Cedarbrae</td>\n",
       "    </tr>\n",
       "  </tbody>\n",
       "</table>\n",
       "</div>"
      ],
      "text/plain": [
       "  Postalcode      Borough                            Neighborhood\n",
       "0        M1B  Scarborough                          Rouge, Malvern\n",
       "1        M1C  Scarborough  Highland Creek, Rouge Hill, Port Union\n",
       "2        M1E  Scarborough       Guildwood, Morningside, West Hill\n",
       "3        M1G  Scarborough                                  Woburn\n",
       "4        M1H  Scarborough                               Cedarbrae"
      ]
     },
     "execution_count": 78,
     "metadata": {},
     "output_type": "execute_result"
    }
   ],
   "source": [
    "# create a new set of cloumns and then a Dataframe \n",
    "column_names = ['Postalcode','Borough','Neighborhood']\n",
    "toronto = pd.DataFrame(columns = column_names)\n",
    "\n",
    "# Based on the inspect on browser data is available at the tags - div and class= 'mw-parser-output'\n",
    "#loop through the data to find postcode, borough, neighborhood sections\n",
    "content = Canada_data.find('div', class_='mw-parser-output')\n",
    "table = content.table.tbody\n",
    "postcode = 0\n",
    "borough = 0\n",
    "neighborhood = 0\n",
    "\n",
    "#strip '\\n' from neighborhood columns and add (combine rather) neighborhood column values for the same Borough types\n",
    "for tr in table.find_all('tr'):\n",
    "    col = 0\n",
    "    for td in tr.find_all('td'):\n",
    "        if col == 0:\n",
    "            postcode = td.text\n",
    "            col = col + 1\n",
    "        elif col == 1:\n",
    "            borough = td.text\n",
    "            col = col + 1\n",
    "        elif col == 2: \n",
    "            neighborhood = td.text.strip('\\n').replace(']','')\n",
    "            break\n",
    "    toronto = toronto.append({'Postalcode': postcode,'Borough': borough,'Neighborhood': neighborhood},ignore_index=True)\n",
    "\n",
    "# clean up dataframe - remove 'Not assigned' Borough values and then reset the index\n",
    "toronto = toronto[toronto.Borough!='Not assigned']\n",
    "toronto = toronto[toronto.Borough!= 0]\n",
    "toronto.reset_index(drop = True, inplace = True)\n",
    "\n",
    "#replace \n",
    "i = 0\n",
    "for i in range(0,toronto.shape[0]):\n",
    "    if toronto.iloc[i][2] == 'Not assigned':\n",
    "        toronto.iloc[i][2] = toronto.iloc[i][1]\n",
    "        i = i+1\n",
    "                                 \n",
    "df = toronto.groupby(['Postalcode','Borough'])['Neighborhood'].apply(', '.join).reset_index()\n",
    "print(df.shape)\n",
    "df.head()"
   ]
  },
  {
   "cell_type": "markdown",
   "metadata": {},
   "source": [
    "### Data Cleaning\n",
    "Drop \"None\" rows in DataFrame\n",
    "\n",
    "Drop any row which contains 'Not assigned' value\n",
    "\n",
    "All \"Not assigned\" will be replace to 'NaN' using numpy for convenience."
   ]
  },
  {
   "cell_type": "code",
   "execution_count": 79,
   "metadata": {},
   "outputs": [],
   "source": [
    "df = df.dropna()\n",
    "empty = 'Not assigned'\n",
    "df = df[(df.Postalcode != empty ) & (df.Borough != empty) & (df.Neighborhood != empty)]"
   ]
  },
  {
   "cell_type": "code",
   "execution_count": 80,
   "metadata": {},
   "outputs": [
    {
     "name": "stdout",
     "output_type": "stream",
     "text": [
      "(103, 3)\n"
     ]
    },
    {
     "data": {
      "text/html": [
       "<div>\n",
       "<style scoped>\n",
       "    .dataframe tbody tr th:only-of-type {\n",
       "        vertical-align: middle;\n",
       "    }\n",
       "\n",
       "    .dataframe tbody tr th {\n",
       "        vertical-align: top;\n",
       "    }\n",
       "\n",
       "    .dataframe thead th {\n",
       "        text-align: right;\n",
       "    }\n",
       "</style>\n",
       "<table border=\"1\" class=\"dataframe\">\n",
       "  <thead>\n",
       "    <tr style=\"text-align: right;\">\n",
       "      <th></th>\n",
       "      <th>Postalcode</th>\n",
       "      <th>Borough</th>\n",
       "      <th>Neighborhood</th>\n",
       "    </tr>\n",
       "  </thead>\n",
       "  <tbody>\n",
       "    <tr>\n",
       "      <td>0</td>\n",
       "      <td>M1B</td>\n",
       "      <td>Scarborough</td>\n",
       "      <td>Rouge, Malvern</td>\n",
       "    </tr>\n",
       "    <tr>\n",
       "      <td>1</td>\n",
       "      <td>M1C</td>\n",
       "      <td>Scarborough</td>\n",
       "      <td>Highland Creek, Rouge Hill, Port Union</td>\n",
       "    </tr>\n",
       "    <tr>\n",
       "      <td>2</td>\n",
       "      <td>M1E</td>\n",
       "      <td>Scarborough</td>\n",
       "      <td>Guildwood, Morningside, West Hill</td>\n",
       "    </tr>\n",
       "    <tr>\n",
       "      <td>3</td>\n",
       "      <td>M1G</td>\n",
       "      <td>Scarborough</td>\n",
       "      <td>Woburn</td>\n",
       "    </tr>\n",
       "    <tr>\n",
       "      <td>4</td>\n",
       "      <td>M1H</td>\n",
       "      <td>Scarborough</td>\n",
       "      <td>Cedarbrae</td>\n",
       "    </tr>\n",
       "  </tbody>\n",
       "</table>\n",
       "</div>"
      ],
      "text/plain": [
       "  Postalcode      Borough                            Neighborhood\n",
       "0        M1B  Scarborough                          Rouge, Malvern\n",
       "1        M1C  Scarborough  Highland Creek, Rouge Hill, Port Union\n",
       "2        M1E  Scarborough       Guildwood, Morningside, West Hill\n",
       "3        M1G  Scarborough                                  Woburn\n",
       "4        M1H  Scarborough                               Cedarbrae"
      ]
     },
     "execution_count": 80,
     "metadata": {},
     "output_type": "execute_result"
    }
   ],
   "source": [
    "print(df.shape)\n",
    "df.head()"
   ]
  },
  {
   "cell_type": "code",
   "execution_count": 81,
   "metadata": {},
   "outputs": [],
   "source": [
    "df.to_csv('file2.csv',index=0) "
   ]
  },
  {
   "cell_type": "code",
   "execution_count": null,
   "metadata": {},
   "outputs": [],
   "source": []
  },
  {
   "cell_type": "markdown",
   "metadata": {},
   "source": [
    "## Task 2: \n",
    "### Adding the longitude and latitude coordinates to the dataframe\n",
    "\n",
    "\n"
   ]
  },
  {
   "cell_type": "code",
   "execution_count": 82,
   "metadata": {},
   "outputs": [
    {
     "data": {
      "text/html": [
       "<div>\n",
       "<style scoped>\n",
       "    .dataframe tbody tr th:only-of-type {\n",
       "        vertical-align: middle;\n",
       "    }\n",
       "\n",
       "    .dataframe tbody tr th {\n",
       "        vertical-align: top;\n",
       "    }\n",
       "\n",
       "    .dataframe thead th {\n",
       "        text-align: right;\n",
       "    }\n",
       "</style>\n",
       "<table border=\"1\" class=\"dataframe\">\n",
       "  <thead>\n",
       "    <tr style=\"text-align: right;\">\n",
       "      <th></th>\n",
       "      <th>Postalcode</th>\n",
       "      <th>Borough</th>\n",
       "      <th>Neighborhood</th>\n",
       "    </tr>\n",
       "  </thead>\n",
       "  <tbody>\n",
       "    <tr>\n",
       "      <td>0</td>\n",
       "      <td>M1B</td>\n",
       "      <td>Scarborough</td>\n",
       "      <td>Rouge, Malvern</td>\n",
       "    </tr>\n",
       "    <tr>\n",
       "      <td>1</td>\n",
       "      <td>M1C</td>\n",
       "      <td>Scarborough</td>\n",
       "      <td>Highland Creek, Rouge Hill, Port Union</td>\n",
       "    </tr>\n",
       "    <tr>\n",
       "      <td>2</td>\n",
       "      <td>M1E</td>\n",
       "      <td>Scarborough</td>\n",
       "      <td>Guildwood, Morningside, West Hill</td>\n",
       "    </tr>\n",
       "    <tr>\n",
       "      <td>3</td>\n",
       "      <td>M1G</td>\n",
       "      <td>Scarborough</td>\n",
       "      <td>Woburn</td>\n",
       "    </tr>\n",
       "    <tr>\n",
       "      <td>4</td>\n",
       "      <td>M1H</td>\n",
       "      <td>Scarborough</td>\n",
       "      <td>Cedarbrae</td>\n",
       "    </tr>\n",
       "  </tbody>\n",
       "</table>\n",
       "</div>"
      ],
      "text/plain": [
       "  Postalcode      Borough                            Neighborhood\n",
       "0        M1B  Scarborough                          Rouge, Malvern\n",
       "1        M1C  Scarborough  Highland Creek, Rouge Hill, Port Union\n",
       "2        M1E  Scarborough       Guildwood, Morningside, West Hill\n",
       "3        M1G  Scarborough                                  Woburn\n",
       "4        M1H  Scarborough                               Cedarbrae"
      ]
     },
     "execution_count": 82,
     "metadata": {},
     "output_type": "execute_result"
    }
   ],
   "source": [
    "### Just checking .. file written or not for Task 2\n",
    "df=pd.read_csv(\"file2.csv\")\n",
    "df.head()"
   ]
  },
  {
   "cell_type": "code",
   "execution_count": 83,
   "metadata": {},
   "outputs": [
    {
     "data": {
      "text/html": [
       "<div>\n",
       "<style scoped>\n",
       "    .dataframe tbody tr th:only-of-type {\n",
       "        vertical-align: middle;\n",
       "    }\n",
       "\n",
       "    .dataframe tbody tr th {\n",
       "        vertical-align: top;\n",
       "    }\n",
       "\n",
       "    .dataframe thead th {\n",
       "        text-align: right;\n",
       "    }\n",
       "</style>\n",
       "<table border=\"1\" class=\"dataframe\">\n",
       "  <thead>\n",
       "    <tr style=\"text-align: right;\">\n",
       "      <th></th>\n",
       "      <th>Postalcode</th>\n",
       "      <th>Latitude</th>\n",
       "      <th>Longitude</th>\n",
       "    </tr>\n",
       "  </thead>\n",
       "  <tbody>\n",
       "    <tr>\n",
       "      <td>0</td>\n",
       "      <td>M1B</td>\n",
       "      <td>43.806686</td>\n",
       "      <td>-79.194353</td>\n",
       "    </tr>\n",
       "    <tr>\n",
       "      <td>1</td>\n",
       "      <td>M1C</td>\n",
       "      <td>43.784535</td>\n",
       "      <td>-79.160497</td>\n",
       "    </tr>\n",
       "    <tr>\n",
       "      <td>2</td>\n",
       "      <td>M1E</td>\n",
       "      <td>43.763573</td>\n",
       "      <td>-79.188711</td>\n",
       "    </tr>\n",
       "    <tr>\n",
       "      <td>3</td>\n",
       "      <td>M1G</td>\n",
       "      <td>43.770992</td>\n",
       "      <td>-79.216917</td>\n",
       "    </tr>\n",
       "    <tr>\n",
       "      <td>4</td>\n",
       "      <td>M1H</td>\n",
       "      <td>43.773136</td>\n",
       "      <td>-79.239476</td>\n",
       "    </tr>\n",
       "  </tbody>\n",
       "</table>\n",
       "</div>"
      ],
      "text/plain": [
       "  Postalcode   Latitude  Longitude\n",
       "0        M1B  43.806686 -79.194353\n",
       "1        M1C  43.784535 -79.160497\n",
       "2        M1E  43.763573 -79.188711\n",
       "3        M1G  43.770992 -79.216917\n",
       "4        M1H  43.773136 -79.239476"
      ]
     },
     "execution_count": 83,
     "metadata": {},
     "output_type": "execute_result"
    }
   ],
   "source": [
    "df2=pd.read_csv(\"http://cocl.us/Geospatial_data\")\n",
    "df2.rename(columns={'Postal Code': 'Postalcode'}, inplace=True)\n",
    "df2.head()"
   ]
  },
  {
   "cell_type": "markdown",
   "metadata": {},
   "source": [
    "### Retrieving Postal Code coordinates"
   ]
  },
  {
   "cell_type": "code",
   "execution_count": 84,
   "metadata": {},
   "outputs": [
    {
     "data": {
      "text/html": [
       "<div>\n",
       "<style scoped>\n",
       "    .dataframe tbody tr th:only-of-type {\n",
       "        vertical-align: middle;\n",
       "    }\n",
       "\n",
       "    .dataframe tbody tr th {\n",
       "        vertical-align: top;\n",
       "    }\n",
       "\n",
       "    .dataframe thead th {\n",
       "        text-align: right;\n",
       "    }\n",
       "</style>\n",
       "<table border=\"1\" class=\"dataframe\">\n",
       "  <thead>\n",
       "    <tr style=\"text-align: right;\">\n",
       "      <th></th>\n",
       "      <th>Postalcode</th>\n",
       "      <th>Borough</th>\n",
       "      <th>Neighborhood</th>\n",
       "      <th>Latitude</th>\n",
       "      <th>Longitude</th>\n",
       "    </tr>\n",
       "  </thead>\n",
       "  <tbody>\n",
       "    <tr>\n",
       "      <td>0</td>\n",
       "      <td>M1B</td>\n",
       "      <td>Scarborough</td>\n",
       "      <td>Rouge, Malvern</td>\n",
       "      <td>43.806686</td>\n",
       "      <td>-79.194353</td>\n",
       "    </tr>\n",
       "    <tr>\n",
       "      <td>1</td>\n",
       "      <td>M1C</td>\n",
       "      <td>Scarborough</td>\n",
       "      <td>Highland Creek, Rouge Hill, Port Union</td>\n",
       "      <td>43.784535</td>\n",
       "      <td>-79.160497</td>\n",
       "    </tr>\n",
       "    <tr>\n",
       "      <td>2</td>\n",
       "      <td>M1E</td>\n",
       "      <td>Scarborough</td>\n",
       "      <td>Guildwood, Morningside, West Hill</td>\n",
       "      <td>43.763573</td>\n",
       "      <td>-79.188711</td>\n",
       "    </tr>\n",
       "    <tr>\n",
       "      <td>3</td>\n",
       "      <td>M1G</td>\n",
       "      <td>Scarborough</td>\n",
       "      <td>Woburn</td>\n",
       "      <td>43.770992</td>\n",
       "      <td>-79.216917</td>\n",
       "    </tr>\n",
       "    <tr>\n",
       "      <td>4</td>\n",
       "      <td>M1H</td>\n",
       "      <td>Scarborough</td>\n",
       "      <td>Cedarbrae</td>\n",
       "      <td>43.773136</td>\n",
       "      <td>-79.239476</td>\n",
       "    </tr>\n",
       "    <tr>\n",
       "      <td>5</td>\n",
       "      <td>M1J</td>\n",
       "      <td>Scarborough</td>\n",
       "      <td>Scarborough Village</td>\n",
       "      <td>43.744734</td>\n",
       "      <td>-79.239476</td>\n",
       "    </tr>\n",
       "    <tr>\n",
       "      <td>6</td>\n",
       "      <td>M1K</td>\n",
       "      <td>Scarborough</td>\n",
       "      <td>East Birchmount Park, Ionview, Kennedy Park</td>\n",
       "      <td>43.727929</td>\n",
       "      <td>-79.262029</td>\n",
       "    </tr>\n",
       "    <tr>\n",
       "      <td>7</td>\n",
       "      <td>M1L</td>\n",
       "      <td>Scarborough</td>\n",
       "      <td>Clairlea, Golden Mile, Oakridge</td>\n",
       "      <td>43.711112</td>\n",
       "      <td>-79.284577</td>\n",
       "    </tr>\n",
       "    <tr>\n",
       "      <td>8</td>\n",
       "      <td>M1M</td>\n",
       "      <td>Scarborough</td>\n",
       "      <td>Cliffcrest, Cliffside, Scarborough Village West</td>\n",
       "      <td>43.716316</td>\n",
       "      <td>-79.239476</td>\n",
       "    </tr>\n",
       "    <tr>\n",
       "      <td>9</td>\n",
       "      <td>M1N</td>\n",
       "      <td>Scarborough</td>\n",
       "      <td>Birch Cliff, Cliffside West</td>\n",
       "      <td>43.692657</td>\n",
       "      <td>-79.264848</td>\n",
       "    </tr>\n",
       "  </tbody>\n",
       "</table>\n",
       "</div>"
      ],
      "text/plain": [
       "  Postalcode      Borough                                     Neighborhood  \\\n",
       "0        M1B  Scarborough                                   Rouge, Malvern   \n",
       "1        M1C  Scarborough           Highland Creek, Rouge Hill, Port Union   \n",
       "2        M1E  Scarborough                Guildwood, Morningside, West Hill   \n",
       "3        M1G  Scarborough                                           Woburn   \n",
       "4        M1H  Scarborough                                        Cedarbrae   \n",
       "5        M1J  Scarborough                              Scarborough Village   \n",
       "6        M1K  Scarborough      East Birchmount Park, Ionview, Kennedy Park   \n",
       "7        M1L  Scarborough                  Clairlea, Golden Mile, Oakridge   \n",
       "8        M1M  Scarborough  Cliffcrest, Cliffside, Scarborough Village West   \n",
       "9        M1N  Scarborough                      Birch Cliff, Cliffside West   \n",
       "\n",
       "    Latitude  Longitude  \n",
       "0  43.806686 -79.194353  \n",
       "1  43.784535 -79.160497  \n",
       "2  43.763573 -79.188711  \n",
       "3  43.770992 -79.216917  \n",
       "4  43.773136 -79.239476  \n",
       "5  43.744734 -79.239476  \n",
       "6  43.727929 -79.262029  \n",
       "7  43.711112 -79.284577  \n",
       "8  43.716316 -79.239476  \n",
       "9  43.692657 -79.264848  "
      ]
     },
     "execution_count": 84,
     "metadata": {},
     "output_type": "execute_result"
    }
   ],
   "source": [
    "for i in df.index:\n",
    "    for j in df2.index:\n",
    "        if df.iloc[i].Postalcode == df2.iloc[j].Postalcode:\n",
    "            df['Latitude'] = df2['Latitude']\n",
    "            df['Longitude'] = df2['Longitude']\n",
    "            break\n",
    "            \n",
    "      \n",
    "df.head(10)\n"
   ]
  },
  {
   "cell_type": "code",
   "execution_count": 85,
   "metadata": {},
   "outputs": [
    {
     "data": {
      "text/html": [
       "<div>\n",
       "<style scoped>\n",
       "    .dataframe tbody tr th:only-of-type {\n",
       "        vertical-align: middle;\n",
       "    }\n",
       "\n",
       "    .dataframe tbody tr th {\n",
       "        vertical-align: top;\n",
       "    }\n",
       "\n",
       "    .dataframe thead th {\n",
       "        text-align: right;\n",
       "    }\n",
       "</style>\n",
       "<table border=\"1\" class=\"dataframe\">\n",
       "  <thead>\n",
       "    <tr style=\"text-align: right;\">\n",
       "      <th></th>\n",
       "      <th>Postalcode</th>\n",
       "      <th>Borough</th>\n",
       "      <th>Neighborhood</th>\n",
       "      <th>Latitude</th>\n",
       "      <th>Longitude</th>\n",
       "    </tr>\n",
       "  </thead>\n",
       "  <tbody>\n",
       "    <tr>\n",
       "      <td>57</td>\n",
       "      <td>M5G</td>\n",
       "      <td>Downtown Toronto</td>\n",
       "      <td>Central Bay Street</td>\n",
       "      <td>43.657952</td>\n",
       "      <td>-79.387383</td>\n",
       "    </tr>\n",
       "  </tbody>\n",
       "</table>\n",
       "</div>"
      ],
      "text/plain": [
       "   Postalcode           Borough        Neighborhood   Latitude  Longitude\n",
       "57        M5G  Downtown Toronto  Central Bay Street  43.657952 -79.387383"
      ]
     },
     "execution_count": 85,
     "metadata": {},
     "output_type": "execute_result"
    }
   ],
   "source": [
    "df[df.Postalcode == 'M5G']"
   ]
  },
  {
   "cell_type": "markdown",
   "metadata": {},
   "source": [
    "## Task 3: Clustering\n",
    "### Explore and cluster the neighborhoods in Toronto. \n",
    "### You can decide to work with only boroughs that contain the word Toronto and then replicate the same analysis we did to \n",
    "### the New York City data. It is up to you."
   ]
  },
  {
   "cell_type": "code",
   "execution_count": null,
   "metadata": {},
   "outputs": [],
   "source": []
  },
  {
   "cell_type": "code",
   "execution_count": 13,
   "metadata": {},
   "outputs": [
    {
     "name": "stdout",
     "output_type": "stream",
     "text": [
      "Collecting geocoder\n",
      "\u001b[?25l  Downloading https://files.pythonhosted.org/packages/4f/6b/13166c909ad2f2d76b929a4227c952630ebaf0d729f6317eb09cbceccbab/geocoder-1.38.1-py2.py3-none-any.whl (98kB)\n",
      "\u001b[K     |████████████████████████████████| 102kB 2.9MB/s ta 0:00:011\n",
      "\u001b[?25hCollecting ratelim (from geocoder)\n",
      "  Downloading https://files.pythonhosted.org/packages/f2/98/7e6d147fd16a10a5f821db6e25f192265d6ecca3d82957a4fdd592cad49c/ratelim-0.1.6-py2.py3-none-any.whl\n",
      "Requirement already satisfied: requests in /home/jupyterlab/conda/envs/python/lib/python3.6/site-packages (from geocoder) (2.22.0)\n",
      "Collecting future (from geocoder)\n",
      "\u001b[?25l  Downloading https://files.pythonhosted.org/packages/90/52/e20466b85000a181e1e144fd8305caf2cf475e2f9674e797b222f8105f5f/future-0.17.1.tar.gz (829kB)\n",
      "\u001b[K     |████████████████████████████████| 829kB 23.2MB/s eta 0:00:01\n",
      "\u001b[?25hRequirement already satisfied: six in /home/jupyterlab/conda/envs/python/lib/python3.6/site-packages (from geocoder) (1.12.0)\n",
      "Collecting click (from geocoder)\n",
      "\u001b[?25l  Downloading https://files.pythonhosted.org/packages/fa/37/45185cb5abbc30d7257104c434fe0b07e5a195a6847506c074527aa599ec/Click-7.0-py2.py3-none-any.whl (81kB)\n",
      "\u001b[K     |████████████████████████████████| 81kB 17.2MB/s eta 0:00:01\n",
      "\u001b[?25hRequirement already satisfied: decorator in /home/jupyterlab/conda/envs/python/lib/python3.6/site-packages (from ratelim->geocoder) (4.4.0)\n",
      "Requirement already satisfied: urllib3!=1.25.0,!=1.25.1,<1.26,>=1.21.1 in /home/jupyterlab/conda/envs/python/lib/python3.6/site-packages (from requests->geocoder) (1.24.3)\n",
      "Requirement already satisfied: chardet<3.1.0,>=3.0.2 in /home/jupyterlab/conda/envs/python/lib/python3.6/site-packages (from requests->geocoder) (3.0.4)\n",
      "Requirement already satisfied: idna<2.9,>=2.5 in /home/jupyterlab/conda/envs/python/lib/python3.6/site-packages (from requests->geocoder) (2.8)\n",
      "Requirement already satisfied: certifi>=2017.4.17 in /home/jupyterlab/conda/envs/python/lib/python3.6/site-packages (from requests->geocoder) (2019.6.16)\n",
      "Building wheels for collected packages: future\n",
      "  Building wheel for future (setup.py) ... \u001b[?25ldone\n",
      "\u001b[?25h  Stored in directory: /home/jupyterlab/.cache/pip/wheels/0c/61/d2/d6b7317325828fbb39ee6ad559dbe4664d0896da4721bf379e\n",
      "Successfully built future\n",
      "Installing collected packages: ratelim, future, click, geocoder\n",
      "Successfully installed click-7.0 future-0.17.1 geocoder-1.38.1 ratelim-0.1.6\n",
      "Note: you may need to restart the kernel to use updated packages.\n"
     ]
    }
   ],
   "source": [
    "pip install geocoder"
   ]
  },
  {
   "cell_type": "code",
   "execution_count": 14,
   "metadata": {},
   "outputs": [
    {
     "name": "stdout",
     "output_type": "stream",
     "text": [
      "Requirement already satisfied: bs4 in /home/jupyterlab/conda/envs/python/lib/python3.6/site-packages (0.0.1)\n",
      "Requirement already satisfied: beautifulsoup4 in /home/jupyterlab/conda/envs/python/lib/python3.6/site-packages (from bs4) (4.8.0)\n",
      "Requirement already satisfied: soupsieve>=1.2 in /home/jupyterlab/conda/envs/python/lib/python3.6/site-packages (from beautifulsoup4->bs4) (1.9.3)\n",
      "Note: you may need to restart the kernel to use updated packages.\n"
     ]
    }
   ],
   "source": [
    "pip install bs4"
   ]
  },
  {
   "cell_type": "code",
   "execution_count": 86,
   "metadata": {},
   "outputs": [],
   "source": [
    "import numpy as np\n",
    "import pandas as pd\n",
    "import geocoder"
   ]
  },
  {
   "cell_type": "markdown",
   "metadata": {},
   "source": [
    "Read the DataFrame from Part1"
   ]
  },
  {
   "cell_type": "code",
   "execution_count": 87,
   "metadata": {},
   "outputs": [
    {
     "data": {
      "text/html": [
       "<div>\n",
       "<style scoped>\n",
       "    .dataframe tbody tr th:only-of-type {\n",
       "        vertical-align: middle;\n",
       "    }\n",
       "\n",
       "    .dataframe tbody tr th {\n",
       "        vertical-align: top;\n",
       "    }\n",
       "\n",
       "    .dataframe thead th {\n",
       "        text-align: right;\n",
       "    }\n",
       "</style>\n",
       "<table border=\"1\" class=\"dataframe\">\n",
       "  <thead>\n",
       "    <tr style=\"text-align: right;\">\n",
       "      <th></th>\n",
       "      <th>Postalcode</th>\n",
       "      <th>Borough</th>\n",
       "      <th>Neighborhood</th>\n",
       "    </tr>\n",
       "  </thead>\n",
       "  <tbody>\n",
       "    <tr>\n",
       "      <td>0</td>\n",
       "      <td>M1B</td>\n",
       "      <td>Scarborough</td>\n",
       "      <td>Rouge, Malvern</td>\n",
       "    </tr>\n",
       "    <tr>\n",
       "      <td>1</td>\n",
       "      <td>M1C</td>\n",
       "      <td>Scarborough</td>\n",
       "      <td>Highland Creek, Rouge Hill, Port Union</td>\n",
       "    </tr>\n",
       "    <tr>\n",
       "      <td>2</td>\n",
       "      <td>M1E</td>\n",
       "      <td>Scarborough</td>\n",
       "      <td>Guildwood, Morningside, West Hill</td>\n",
       "    </tr>\n",
       "    <tr>\n",
       "      <td>3</td>\n",
       "      <td>M1G</td>\n",
       "      <td>Scarborough</td>\n",
       "      <td>Woburn</td>\n",
       "    </tr>\n",
       "    <tr>\n",
       "      <td>4</td>\n",
       "      <td>M1H</td>\n",
       "      <td>Scarborough</td>\n",
       "      <td>Cedarbrae</td>\n",
       "    </tr>\n",
       "  </tbody>\n",
       "</table>\n",
       "</div>"
      ],
      "text/plain": [
       "  Postalcode      Borough                            Neighborhood\n",
       "0        M1B  Scarborough                          Rouge, Malvern\n",
       "1        M1C  Scarborough  Highland Creek, Rouge Hill, Port Union\n",
       "2        M1E  Scarborough       Guildwood, Morningside, West Hill\n",
       "3        M1G  Scarborough                                  Woburn\n",
       "4        M1H  Scarborough                               Cedarbrae"
      ]
     },
     "execution_count": 87,
     "metadata": {},
     "output_type": "execute_result"
    }
   ],
   "source": [
    "df = pd.read_csv('file2.csv')\n",
    "df.head()"
   ]
  },
  {
   "cell_type": "code",
   "execution_count": 88,
   "metadata": {},
   "outputs": [
    {
     "data": {
      "text/plain": [
       "[43.76835912100006, -79.21758999999997]"
      ]
     },
     "execution_count": 88,
     "metadata": {},
     "output_type": "execute_result"
    }
   ],
   "source": [
    "def get_latlng(postal_code):\n",
    "    # initialize your variable to None\n",
    "    lat_lng_coords = None\n",
    "    # loop until you get the coordinates\n",
    "    while(lat_lng_coords is None):\n",
    "        g = geocoder.arcgis('{}, Toronto, Ontario'.format(postal_code))\n",
    "        lat_lng_coords = g.latlng\n",
    "    return lat_lng_coords\n",
    "    \n",
    "get_latlng('M1G')"
   ]
  },
  {
   "cell_type": "markdown",
   "metadata": {},
   "source": [
    "Retrieving Postal Code coordinates"
   ]
  },
  {
   "cell_type": "code",
   "execution_count": 89,
   "metadata": {},
   "outputs": [],
   "source": [
    "postal_codes = df['Postalcode']    \n",
    "coords = [ get_latlng(postal_code) for postal_code in postal_codes.tolist() ]"
   ]
  },
  {
   "cell_type": "markdown",
   "metadata": {},
   "source": [
    "Adding columns Latitude and Longitude "
   ]
  },
  {
   "cell_type": "code",
   "execution_count": 90,
   "metadata": {},
   "outputs": [],
   "source": [
    "df_coords = pd.DataFrame(coords, columns=['Latitude', 'Longitude'])\n",
    "df['Latitude'] = df_coords['Latitude']\n",
    "df['Longitude'] = df_coords['Longitude']"
   ]
  },
  {
   "cell_type": "code",
   "execution_count": 91,
   "metadata": {},
   "outputs": [
    {
     "data": {
      "text/html": [
       "<div>\n",
       "<style scoped>\n",
       "    .dataframe tbody tr th:only-of-type {\n",
       "        vertical-align: middle;\n",
       "    }\n",
       "\n",
       "    .dataframe tbody tr th {\n",
       "        vertical-align: top;\n",
       "    }\n",
       "\n",
       "    .dataframe thead th {\n",
       "        text-align: right;\n",
       "    }\n",
       "</style>\n",
       "<table border=\"1\" class=\"dataframe\">\n",
       "  <thead>\n",
       "    <tr style=\"text-align: right;\">\n",
       "      <th></th>\n",
       "      <th>Postalcode</th>\n",
       "      <th>Borough</th>\n",
       "      <th>Neighborhood</th>\n",
       "      <th>Latitude</th>\n",
       "      <th>Longitude</th>\n",
       "    </tr>\n",
       "  </thead>\n",
       "  <tbody>\n",
       "    <tr>\n",
       "      <td>0</td>\n",
       "      <td>M1B</td>\n",
       "      <td>Scarborough</td>\n",
       "      <td>Rouge, Malvern</td>\n",
       "      <td>43.811525</td>\n",
       "      <td>-79.195517</td>\n",
       "    </tr>\n",
       "    <tr>\n",
       "      <td>1</td>\n",
       "      <td>M1C</td>\n",
       "      <td>Scarborough</td>\n",
       "      <td>Highland Creek, Rouge Hill, Port Union</td>\n",
       "      <td>43.785730</td>\n",
       "      <td>-79.158750</td>\n",
       "    </tr>\n",
       "    <tr>\n",
       "      <td>2</td>\n",
       "      <td>M1E</td>\n",
       "      <td>Scarborough</td>\n",
       "      <td>Guildwood, Morningside, West Hill</td>\n",
       "      <td>43.765690</td>\n",
       "      <td>-79.175256</td>\n",
       "    </tr>\n",
       "    <tr>\n",
       "      <td>3</td>\n",
       "      <td>M1G</td>\n",
       "      <td>Scarborough</td>\n",
       "      <td>Woburn</td>\n",
       "      <td>43.768359</td>\n",
       "      <td>-79.217590</td>\n",
       "    </tr>\n",
       "    <tr>\n",
       "      <td>4</td>\n",
       "      <td>M1H</td>\n",
       "      <td>Scarborough</td>\n",
       "      <td>Cedarbrae</td>\n",
       "      <td>43.769688</td>\n",
       "      <td>-79.239440</td>\n",
       "    </tr>\n",
       "  </tbody>\n",
       "</table>\n",
       "</div>"
      ],
      "text/plain": [
       "  Postalcode      Borough                            Neighborhood   Latitude  \\\n",
       "0        M1B  Scarborough                          Rouge, Malvern  43.811525   \n",
       "1        M1C  Scarborough  Highland Creek, Rouge Hill, Port Union  43.785730   \n",
       "2        M1E  Scarborough       Guildwood, Morningside, West Hill  43.765690   \n",
       "3        M1G  Scarborough                                  Woburn  43.768359   \n",
       "4        M1H  Scarborough                               Cedarbrae  43.769688   \n",
       "\n",
       "   Longitude  \n",
       "0 -79.195517  \n",
       "1 -79.158750  \n",
       "2 -79.175256  \n",
       "3 -79.217590  \n",
       "4 -79.239440  "
      ]
     },
     "execution_count": 91,
     "metadata": {},
     "output_type": "execute_result"
    }
   ],
   "source": [
    "df.head(5)"
   ]
  },
  {
   "cell_type": "code",
   "execution_count": 92,
   "metadata": {},
   "outputs": [
    {
     "name": "stdout",
     "output_type": "stream",
     "text": [
      "Solving environment: done\n",
      "\n",
      "\n",
      "==> WARNING: A newer version of conda exists. <==\n",
      "  current version: 4.5.11\n",
      "  latest version: 4.7.11\n",
      "\n",
      "Please update conda by running\n",
      "\n",
      "    $ conda update -n base -c defaults conda\n",
      "\n",
      "\n",
      "\n",
      "# All requested packages already installed.\n",
      "\n",
      "Solving environment: done\n",
      "\n",
      "\n",
      "==> WARNING: A newer version of conda exists. <==\n",
      "  current version: 4.5.11\n",
      "  latest version: 4.7.11\n",
      "\n",
      "Please update conda by running\n",
      "\n",
      "    $ conda update -n base -c defaults conda\n",
      "\n",
      "\n",
      "\n",
      "# All requested packages already installed.\n",
      "\n"
     ]
    }
   ],
   "source": [
    "import requests\n",
    "from bs4 import BeautifulSoup as bs\n",
    "import re\n",
    "\n",
    "import numpy as np # library to handle data in a vectorized manner\n",
    "import pandas as pd # library for data analsysis\n",
    "pd.set_option('display.max_columns', None)\n",
    "pd.set_option('display.max_rows', None)\n",
    "\n",
    "import json # library to handle JSON files\n",
    "\n",
    "!conda install -c conda-forge geopy --yes # uncomment this line if you haven't completed the Foursquare API lab\n",
    "from geopy.geocoders import Nominatim # convert an address into latitude and longitude values\n",
    "\n",
    "import requests # library to handle requests\n",
    "from pandas.io.json import json_normalize # tranform JSON file into a pandas dataframe\n",
    "\n",
    "# Matplotlib and associated plotting modules\n",
    "import matplotlib.cm as cm\n",
    "import matplotlib.colors as colors\n",
    "\n",
    "# import k-means from clustering stage\n",
    "from sklearn.cluster import KMeans\n",
    "\n",
    "!conda install -c conda-forge folium=0.5.0 --yes # uncomment this line if you haven't completed the Foursquare API lab\n",
    "import folium # map rendering library"
   ]
  },
  {
   "cell_type": "code",
   "execution_count": 93,
   "metadata": {},
   "outputs": [
    {
     "name": "stderr",
     "output_type": "stream",
     "text": [
      "/home/jupyterlab/conda/envs/python/lib/python3.6/site-packages/ipykernel_launcher.py:3: DeprecationWarning: Using Nominatim with the default \"geopy/1.20.0\" `user_agent` is strongly discouraged, as it violates Nominatim's ToS https://operations.osmfoundation.org/policies/nominatim/ and may possibly cause 403 and 429 HTTP errors. Please specify a custom `user_agent` with `Nominatim(user_agent=\"my-application\")` or by overriding the default `user_agent`: `geopy.geocoders.options.default_user_agent = \"my-application\"`. In geopy 2.0 this will become an exception.\n",
      "  This is separate from the ipykernel package so we can avoid doing imports until\n"
     ]
    },
    {
     "name": "stdout",
     "output_type": "stream",
     "text": [
      "The geograpical coordinate of Toronto are 43.653963, -79.387207.\n"
     ]
    },
    {
     "data": {
      "text/html": [
       "<div style=\"width:100%;\"><div style=\"position:relative;width:100%;height:0;padding-bottom:60%;\"><iframe src=\"data:text/html;charset=utf-8;base64,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\" style=\"position:absolute;width:100%;height:100%;left:0;top:0;border:none !important;\" allowfullscreen webkitallowfullscreen mozallowfullscreen></iframe></div></div>"
      ],
      "text/plain": [
       "<folium.folium.Map at 0x7f0385349e48>"
      ]
     },
     "execution_count": 93,
     "metadata": {},
     "output_type": "execute_result"
    }
   ],
   "source": [
    "address = 'Toronto'\n",
    "\n",
    "geolocator = Nominatim()\n",
    "location = geolocator.geocode(address)\n",
    "latitude = location.latitude\n",
    "longitude = location.longitude\n",
    "print('The geograpical coordinate of Toronto are {}, {}.'.format(latitude, longitude))\n",
    "\n",
    "# create map of New York using latitude and longitude values\n",
    "map_toronto = folium.Map(location=[latitude, longitude], zoom_start=10)\n",
    "\n",
    "# add markers to map\n",
    "for lat, lng, borough, neighborhood in zip(df['Latitude'], df['Longitude'], df['Borough'], df['Neighborhood']):\n",
    "    label = '{}, {}'.format(neighborhood, borough)\n",
    "    label = folium.Popup(label, parse_html=True)\n",
    "    folium.CircleMarker(\n",
    "        [lat, lng],\n",
    "        radius=5,\n",
    "        popup=label,\n",
    "        color='blue',\n",
    "        fill=True,\n",
    "        fill_color='#3186cc',\n",
    "        fill_opacity=0.7,\n",
    "        parse_html=False).add_to(map_toronto)  \n",
    "    \n",
    "map_toronto"
   ]
  },
  {
   "cell_type": "code",
   "execution_count": 94,
   "metadata": {},
   "outputs": [
    {
     "name": "stderr",
     "output_type": "stream",
     "text": [
      "/home/jupyterlab/conda/envs/python/lib/python3.6/site-packages/ipykernel_launcher.py:4: DeprecationWarning: Using Nominatim with the default \"geopy/1.20.0\" `user_agent` is strongly discouraged, as it violates Nominatim's ToS https://operations.osmfoundation.org/policies/nominatim/ and may possibly cause 403 and 429 HTTP errors. Please specify a custom `user_agent` with `Nominatim(user_agent=\"my-application\")` or by overriding the default `user_agent`: `geopy.geocoders.options.default_user_agent = \"my-application\"`. In geopy 2.0 this will become an exception.\n",
      "  after removing the cwd from sys.path.\n"
     ]
    },
    {
     "name": "stdout",
     "output_type": "stream",
     "text": [
      "The geograpical coordinate of Scarborough are 43.773077, -79.257774.\n"
     ]
    }
   ],
   "source": [
    "scarborough_data = df[df['Borough'] == 'Scarborough'].reset_index(drop=True)\n",
    "address1 = 'Scarborough,Toronto'\n",
    "\n",
    "geolocator1 = Nominatim()\n",
    "location1 = geolocator1.geocode(address1)\n",
    "latitude1 = location1.latitude\n",
    "longitude1 = location1.longitude\n",
    "print('The geograpical coordinate of Scarborough are {}, {}.'.format(latitude1, longitude1))"
   ]
  },
  {
   "cell_type": "code",
   "execution_count": 95,
   "metadata": {},
   "outputs": [
    {
     "data": {
      "text/html": [
       "<div style=\"width:100%;\"><div style=\"position:relative;width:100%;height:0;padding-bottom:60%;\"><iframe src=\"data:text/html;charset=utf-8;base64,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\" style=\"position:absolute;width:100%;height:100%;left:0;top:0;border:none !important;\" allowfullscreen webkitallowfullscreen mozallowfullscreen></iframe></div></div>"
      ],
      "text/plain": [
       "<folium.folium.Map at 0x7f037f4c0eb8>"
      ]
     },
     "execution_count": 95,
     "metadata": {},
     "output_type": "execute_result"
    }
   ],
   "source": [
    "map_scarb = folium.Map(location=[latitude1, longitude1], zoom_start=11)\n",
    "\n",
    "# add markers to map\n",
    "for lat, lng, label in zip(scarborough_data['Latitude'], scarborough_data['Longitude'], scarborough_data['Neighborhood']):\n",
    "    label = folium.Popup(label, parse_html=True)\n",
    "    folium.CircleMarker(\n",
    "        [lat, lng],\n",
    "        radius=5,\n",
    "        popup=label,\n",
    "        color='blue',\n",
    "        fill=True,\n",
    "        fill_color='#3186cc',\n",
    "        fill_opacity=0.7,\n",
    "        parse_html=False).add_to(map_scarb)  \n",
    "    \n",
    "map_scarb"
   ]
  },
  {
   "cell_type": "code",
   "execution_count": 96,
   "metadata": {},
   "outputs": [
    {
     "name": "stdout",
     "output_type": "stream",
     "text": [
      "Latitude and longitude values of Rouge, Malvern are 43.811525000000074, -79.19551721399995.\n"
     ]
    }
   ],
   "source": [
    "neighborhood_latitude = scarborough_data.loc[0, 'Latitude'] # neighborhood latitude value\n",
    "neighborhood_longitude = scarborough_data.loc[0, 'Longitude'] # neighborhood longitude value\n",
    "\n",
    "neighborhood_name = scarborough_data.loc[0, 'Neighborhood'] # neighborhood name\n",
    "\n",
    "print('Latitude and longitude values of {} are {}, {}.'.format(neighborhood_name, \n",
    "                                                               neighborhood_latitude, \n",
    "                                                               neighborhood_longitude))\n",
    "\n",
    "LIMIT = 100\n",
    "radius = 500\n",
    "CLIENT_ID = \"ATXPETJQWOAF5L3IIEUESXPEL0WSEL2NX5GYNK5F514ZYY1T\"\n",
    "CLIENT_SECRET = \"YO4BTUJ1232AINIIZC4TFMGZ1WVYINWQKU0DCOUDQH2SCJCL\"\n",
    "VERSION=\"20190822\"\n",
    "url = 'https://api.foursquare.com/v2/venues/explore?client_id={}&client_secret={}&ll={},{}&v={}&radius={}&limit={}'.format(CLIENT_ID, CLIENT_SECRET, latitude1, longitude1, VERSION, radius, LIMIT)"
   ]
  },
  {
   "cell_type": "code",
   "execution_count": 97,
   "metadata": {},
   "outputs": [],
   "source": [
    "def get_category_type(row):\n",
    "    try:\n",
    "        categories_list = row['categories']\n",
    "    except:\n",
    "        categories_list = row['venue.categories']\n",
    "        \n",
    "    if len(categories_list) == 0:\n",
    "        return None\n",
    "    else:\n",
    "        return categories_list[0]['name']"
   ]
  },
  {
   "cell_type": "code",
   "execution_count": 98,
   "metadata": {},
   "outputs": [
    {
     "data": {
      "text/html": [
       "<div>\n",
       "<style scoped>\n",
       "    .dataframe tbody tr th:only-of-type {\n",
       "        vertical-align: middle;\n",
       "    }\n",
       "\n",
       "    .dataframe tbody tr th {\n",
       "        vertical-align: top;\n",
       "    }\n",
       "\n",
       "    .dataframe thead th {\n",
       "        text-align: right;\n",
       "    }\n",
       "</style>\n",
       "<table border=\"1\" class=\"dataframe\">\n",
       "  <thead>\n",
       "    <tr style=\"text-align: right;\">\n",
       "      <th></th>\n",
       "      <th>name</th>\n",
       "      <th>categories</th>\n",
       "      <th>lat</th>\n",
       "      <th>lng</th>\n",
       "    </tr>\n",
       "  </thead>\n",
       "  <tbody>\n",
       "    <tr>\n",
       "      <td>0</td>\n",
       "      <td>Disney Store</td>\n",
       "      <td>Toy / Game Store</td>\n",
       "      <td>43.775537</td>\n",
       "      <td>-79.256833</td>\n",
       "    </tr>\n",
       "    <tr>\n",
       "      <td>1</td>\n",
       "      <td>SEPHORA</td>\n",
       "      <td>Cosmetics Shop</td>\n",
       "      <td>43.775017</td>\n",
       "      <td>-79.258109</td>\n",
       "    </tr>\n",
       "    <tr>\n",
       "      <td>2</td>\n",
       "      <td>American Eagle Outfitters</td>\n",
       "      <td>Clothing Store</td>\n",
       "      <td>43.775908</td>\n",
       "      <td>-79.258352</td>\n",
       "    </tr>\n",
       "    <tr>\n",
       "      <td>3</td>\n",
       "      <td>Tommy Hilfiger Company Store</td>\n",
       "      <td>Clothing Store</td>\n",
       "      <td>43.776015</td>\n",
       "      <td>-79.257369</td>\n",
       "    </tr>\n",
       "    <tr>\n",
       "      <td>4</td>\n",
       "      <td>St. Andrews Fish &amp; Chips</td>\n",
       "      <td>Fish &amp; Chips Shop</td>\n",
       "      <td>43.771865</td>\n",
       "      <td>-79.252645</td>\n",
       "    </tr>\n",
       "    <tr>\n",
       "      <td>5</td>\n",
       "      <td>DAVIDsTEA</td>\n",
       "      <td>Tea Room</td>\n",
       "      <td>43.776613</td>\n",
       "      <td>-79.258516</td>\n",
       "    </tr>\n",
       "    <tr>\n",
       "      <td>6</td>\n",
       "      <td>Chipotle Mexican Grill</td>\n",
       "      <td>Mexican Restaurant</td>\n",
       "      <td>43.776410</td>\n",
       "      <td>-79.258069</td>\n",
       "    </tr>\n",
       "    <tr>\n",
       "      <td>7</td>\n",
       "      <td>Coliseum Scarborough Cinemas</td>\n",
       "      <td>Movie Theater</td>\n",
       "      <td>43.775995</td>\n",
       "      <td>-79.255649</td>\n",
       "    </tr>\n",
       "    <tr>\n",
       "      <td>8</td>\n",
       "      <td>Hot Topic</td>\n",
       "      <td>Clothing Store</td>\n",
       "      <td>43.775450</td>\n",
       "      <td>-79.257929</td>\n",
       "    </tr>\n",
       "    <tr>\n",
       "      <td>9</td>\n",
       "      <td>Tim Hortons</td>\n",
       "      <td>Coffee Shop</td>\n",
       "      <td>43.769936</td>\n",
       "      <td>-79.260368</td>\n",
       "    </tr>\n",
       "    <tr>\n",
       "      <td>10</td>\n",
       "      <td>Jimmy The Greek</td>\n",
       "      <td>Greek Restaurant</td>\n",
       "      <td>43.775112</td>\n",
       "      <td>-79.257119</td>\n",
       "    </tr>\n",
       "    <tr>\n",
       "      <td>11</td>\n",
       "      <td>Shoppers Drug Mart</td>\n",
       "      <td>Pharmacy</td>\n",
       "      <td>43.773305</td>\n",
       "      <td>-79.251662</td>\n",
       "    </tr>\n",
       "  </tbody>\n",
       "</table>\n",
       "</div>"
      ],
      "text/plain": [
       "                            name          categories        lat        lng\n",
       "0                   Disney Store    Toy / Game Store  43.775537 -79.256833\n",
       "1                        SEPHORA      Cosmetics Shop  43.775017 -79.258109\n",
       "2      American Eagle Outfitters      Clothing Store  43.775908 -79.258352\n",
       "3   Tommy Hilfiger Company Store      Clothing Store  43.776015 -79.257369\n",
       "4       St. Andrews Fish & Chips   Fish & Chips Shop  43.771865 -79.252645\n",
       "5                      DAVIDsTEA            Tea Room  43.776613 -79.258516\n",
       "6         Chipotle Mexican Grill  Mexican Restaurant  43.776410 -79.258069\n",
       "7   Coliseum Scarborough Cinemas       Movie Theater  43.775995 -79.255649\n",
       "8                      Hot Topic      Clothing Store  43.775450 -79.257929\n",
       "9                    Tim Hortons         Coffee Shop  43.769936 -79.260368\n",
       "10               Jimmy The Greek    Greek Restaurant  43.775112 -79.257119\n",
       "11            Shoppers Drug Mart            Pharmacy  43.773305 -79.251662"
      ]
     },
     "execution_count": 98,
     "metadata": {},
     "output_type": "execute_result"
    }
   ],
   "source": [
    "results = requests.get(url).json()\n",
    "venues = results['response']['groups'][0]['items']\n",
    "    \n",
    "nearby_venues = json_normalize(venues) # flatten JSON\n",
    "\n",
    "# filter columns\n",
    "filtered_columns = ['venue.name', 'venue.categories', 'venue.location.lat', 'venue.location.lng']\n",
    "nearby_venues =nearby_venues.loc[:, filtered_columns]\n",
    "\n",
    "# filter the category for each row\n",
    "nearby_venues['venue.categories'] = nearby_venues.apply(get_category_type, axis=1)\n",
    "\n",
    "# clean columns\n",
    "nearby_venues.columns = [col.split(\".\")[-1] for col in nearby_venues.columns]\n",
    "\n",
    "nearby_venues.head(12)"
   ]
  },
  {
   "cell_type": "code",
   "execution_count": 99,
   "metadata": {},
   "outputs": [],
   "source": [
    "def getNearbyVenues(names, latitudes, longitudes, radius=500):\n",
    "    \n",
    "    venues_list=[]\n",
    "    for name, lat, lng in zip(names, latitudes, longitudes):\n",
    "        print(name)\n",
    "            \n",
    "        # create the API request URL\n",
    "        url = 'https://api.foursquare.com/v2/venues/explore?&client_id={}&client_secret={}&v={}&ll={},{}&radius={}&limit={}'.format(\n",
    "            CLIENT_ID, \n",
    "            CLIENT_SECRET, \n",
    "            VERSION, \n",
    "            lat, \n",
    "            lng, \n",
    "            radius, \n",
    "            LIMIT)\n",
    "            \n",
    "        # make the GET request\n",
    "        results = requests.get(url).json()[\"response\"]['groups'][0]['items']\n",
    "        \n",
    "        # return only relevant information for each nearby venue\n",
    "        venues_list.append([(\n",
    "            name, \n",
    "            lat, \n",
    "            lng, \n",
    "            v['venue']['name'], \n",
    "            v['venue']['location']['lat'], \n",
    "            v['venue']['location']['lng'],  \n",
    "            v['venue']['categories'][0]['name']) for v in results])\n",
    "\n",
    "    nearby_venues = pd.DataFrame([item for venue_list in venues_list for item in venue_list])\n",
    "    nearby_venues.columns = ['Neighborhood', \n",
    "                  'Neighborhood Latitude', \n",
    "                  'Neighborhood Longitude', \n",
    "                  'Venue', \n",
    "                  'Venue Latitude', \n",
    "                  'Venue Longitude', \n",
    "                  'Venue Category']\n",
    "    \n",
    "    return(nearby_venues)"
   ]
  },
  {
   "cell_type": "code",
   "execution_count": 100,
   "metadata": {},
   "outputs": [
    {
     "name": "stdout",
     "output_type": "stream",
     "text": [
      "Rouge, Malvern\n",
      "Highland Creek, Rouge Hill, Port Union\n",
      "Guildwood, Morningside, West Hill\n",
      "Woburn\n",
      "Cedarbrae\n",
      "Scarborough Village\n",
      "East Birchmount Park, Ionview, Kennedy Park\n",
      "Clairlea, Golden Mile, Oakridge\n",
      "Cliffcrest, Cliffside, Scarborough Village West\n",
      "Birch Cliff, Cliffside West\n",
      "Dorset Park, Scarborough Town Centre, Wexford Heights\n",
      "Maryvale, Wexford\n",
      "Agincourt\n",
      "Clarks Corners, Sullivan, Tam O'Shanter\n",
      "Agincourt North, L'Amoreaux East, Milliken, Steeles East\n",
      "L'Amoreaux West\n",
      "Upper Rouge\n"
     ]
    }
   ],
   "source": [
    "scarborough_venues = getNearbyVenues(names=scarborough_data['Neighborhood'],\n",
    "                                   latitudes=scarborough_data['Latitude'],\n",
    "                                   longitudes=scarborough_data['Longitude']\n",
    "                                  )"
   ]
  },
  {
   "cell_type": "code",
   "execution_count": 101,
   "metadata": {},
   "outputs": [
    {
     "name": "stdout",
     "output_type": "stream",
     "text": [
      "                                                    Neighborhood Latitude  \\\n",
      "Neighborhood                                                                \n",
      "Agincourt                                                              16   \n",
      "Agincourt North, L'Amoreaux East, Milliken, Ste...                      1   \n",
      "Birch Cliff, Cliffside West                                             7   \n",
      "Cedarbrae                                                               2   \n",
      "\n",
      "                                                    Neighborhood Longitude  \\\n",
      "Neighborhood                                                                 \n",
      "Agincourt                                                               16   \n",
      "Agincourt North, L'Amoreaux East, Milliken, Ste...                       1   \n",
      "Birch Cliff, Cliffside West                                              7   \n",
      "Cedarbrae                                                                2   \n",
      "\n",
      "                                                    Venue  Venue Latitude  \\\n",
      "Neighborhood                                                                \n",
      "Agincourt                                              16              16   \n",
      "Agincourt North, L'Amoreaux East, Milliken, Ste...      1               1   \n",
      "Birch Cliff, Cliffside West                             7               7   \n",
      "Cedarbrae                                               2               2   \n",
      "\n",
      "                                                    Venue Longitude  \\\n",
      "Neighborhood                                                          \n",
      "Agincourt                                                        16   \n",
      "Agincourt North, L'Amoreaux East, Milliken, Ste...                1   \n",
      "Birch Cliff, Cliffside West                                       7   \n",
      "Cedarbrae                                                         2   \n",
      "\n",
      "                                                    Venue Category  \n",
      "Neighborhood                                                        \n",
      "Agincourt                                                       16  \n",
      "Agincourt North, L'Amoreaux East, Milliken, Ste...               1  \n",
      "Birch Cliff, Cliffside West                                      7  \n",
      "Cedarbrae                                                        2  \n"
     ]
    }
   ],
   "source": [
    "scarborough_venues.head(3)\n",
    "print(scarborough_venues.groupby('Neighborhood').count()[:4])"
   ]
  },
  {
   "cell_type": "code",
   "execution_count": 102,
   "metadata": {},
   "outputs": [],
   "source": [
    "# one hot encoding\n",
    "scarb_onehot = pd.get_dummies(scarborough_venues[['Venue Category']], prefix=\"\", prefix_sep=\"\")\n",
    "\n",
    "# adding neighborhood column back to dataframe\n",
    "scarb_onehot['Neighborhood'] = scarborough_venues['Neighborhood'] \n",
    "\n",
    "# move neighborhood column to the first column\n",
    "fixed_columns = [scarb_onehot.columns[-1]] + list(scarb_onehot.columns[:-1])\n",
    "scarb_onehot = scarb_onehot[fixed_columns]\n",
    "\n",
    "scarb_grouped = scarb_onehot.groupby('Neighborhood').mean().reset_index()\n"
   ]
  },
  {
   "cell_type": "markdown",
   "metadata": {},
   "source": [
    "### Obtaining top 10 venues per neighborhood"
   ]
  },
  {
   "cell_type": "code",
   "execution_count": 103,
   "metadata": {},
   "outputs": [],
   "source": [
    "def return_most_common_venues(row, num_top_venues):\n",
    "    row_categories = row.iloc[1:]\n",
    "    row_categories_sorted = row_categories.sort_values(ascending=False)\n",
    "    \n",
    "    return row_categories_sorted.index.values[0:num_top_venues]"
   ]
  },
  {
   "cell_type": "code",
   "execution_count": 106,
   "metadata": {},
   "outputs": [],
   "source": [
    "num_top_venues = 10\n",
    "\n",
    "indicators = ['st', 'nd', 'rd']\n",
    "\n",
    "# create columns according to number of top venues\n",
    "columns = ['Neighborhood']\n",
    "for ind in np.arange(num_top_venues):\n",
    "    try:\n",
    "        columns.append('{}{} Most Common Venue'.format(ind+1, indicators[ind]))\n",
    "    except:\n",
    "        columns.append('{}th Most Common Venue'.format(ind+1))\n",
    "\n",
    "# create a new dataframe\n",
    "neighborhoods_venues_sorted = pd.DataFrame(columns=columns)\n",
    "neighborhoods_venues_sorted['Neighborhood'] = scarb_grouped['Neighborhood']\n",
    "\n",
    "for ind in np.arange(scarb_grouped.shape[0]):\n",
    "    neighborhoods_venues_sorted.iloc[ind, 1:] = return_most_common_venues(scarb_grouped.iloc[ind, :], num_top_venues)\n"
   ]
  },
  {
   "cell_type": "markdown",
   "metadata": {},
   "source": [
    "### Running k-means algorithm to Cluster  into 5 clusters"
   ]
  },
  {
   "cell_type": "code",
   "execution_count": 108,
   "metadata": {},
   "outputs": [
    {
     "data": {
      "text/plain": [
       "array([0, 1, 0, 3, 0, 0, 0, 0, 0, 0, 4, 0, 2, 0, 0], dtype=int32)"
      ]
     },
     "execution_count": 108,
     "metadata": {},
     "output_type": "execute_result"
    }
   ],
   "source": [
    "scarb_data = scarborough_data.drop(16)\n",
    "# set number of clusters\n",
    "kclusters = 5\n",
    "\n",
    "scarb_grouped_clustering = scarb_grouped.drop('Neighborhood', 1)\n",
    "#scarb_grouped_clustering\n",
    "\n",
    "# run k-means clustering\n",
    "kmeans = KMeans(n_clusters=kclusters, random_state=0).fit(scarb_grouped_clustering)\n",
    "\n",
    "# check cluster labels generated for each row in the dataframe\n",
    "kmeans.labels_"
   ]
  },
  {
   "cell_type": "code",
   "execution_count": 115,
   "metadata": {},
   "outputs": [],
   "source": [
    "scarb_merged = scarb_data\n",
    "kmeans.labels_= [0, 1, 0, 3, 0, 0, 0, 0, 0, 0, 4, 0, 2, 0, 0, 0]\n",
    "scarb_merged.shape\n",
    "scarb_merged['Cluster Labels'] = kmeans.labels_\n",
    "# merge toronto_grouped with toronto_data to add latitude/longitude for each neighborhood\n",
    "scarb_merged = scarb_merged.join(neighborhoods_venues_sorted.set_index('Neighborhood'), on='Neighborhood')"
   ]
  },
  {
   "cell_type": "markdown",
   "metadata": {},
   "source": [
    "### Visual representation of the clusters "
   ]
  },
  {
   "cell_type": "code",
   "execution_count": 117,
   "metadata": {},
   "outputs": [
    {
     "data": {
      "text/html": [
       "<div style=\"width:100%;\"><div style=\"position:relative;width:100%;height:0;padding-bottom:60%;\"><iframe src=\"data:text/html;charset=utf-8;base64,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\" style=\"position:absolute;width:100%;height:100%;left:0;top:0;border:none !important;\" allowfullscreen webkitallowfullscreen mozallowfullscreen></iframe></div></div>"
      ],
      "text/plain": [
       "<folium.folium.Map at 0x7f03840cf710>"
      ]
     },
     "execution_count": 117,
     "metadata": {},
     "output_type": "execute_result"
    }
   ],
   "source": [
    "map_clusters = folium.Map(location=[latitude, longitude], zoom_start=11)\n",
    "\n",
    "# set color scheme for the clusters\n",
    "x = np.arange(kclusters)\n",
    "ys = [i+x+(i*x)**2 for i in range(kclusters)]\n",
    "colors_array = cm.rainbow(np.linspace(0, 1, len(ys)))\n",
    "rainbow = [colors.rgb2hex(i) for i in colors_array]\n",
    "\n",
    "# add markers to the map\n",
    "markers_colors = []\n",
    "for lat, lon, poi, cluster in zip(scarb_merged['Latitude'], scarb_merged['Longitude'], scarb_merged['Neighborhood'], scarb_merged['Cluster Labels']):\n",
    "    label = folium.Popup(str(poi) + ' Cluster ' + str(cluster), parse_html=True)\n",
    "    folium.CircleMarker(\n",
    "        [lat, lon],\n",
    "        radius=5,\n",
    "        popup=label,\n",
    "        color=rainbow[cluster-1],\n",
    "        fill=True,\n",
    "        fill_color=rainbow[cluster-1],\n",
    "        fill_opacity=0.7).add_to(map_clusters)\n",
    "       \n",
    "map_clusters"
   ]
  },
  {
   "cell_type": "code",
   "execution_count": null,
   "metadata": {},
   "outputs": [],
   "source": []
  }
 ],
 "metadata": {
  "kernelspec": {
   "display_name": "Python",
   "language": "python",
   "name": "conda-env-python-py"
  },
  "language_info": {
   "codemirror_mode": {
    "name": "ipython",
    "version": 3
   },
   "file_extension": ".py",
   "mimetype": "text/x-python",
   "name": "python",
   "nbconvert_exporter": "python",
   "pygments_lexer": "ipython3",
   "version": "3.6.7"
  }
 },
 "nbformat": 4,
 "nbformat_minor": 4
}
